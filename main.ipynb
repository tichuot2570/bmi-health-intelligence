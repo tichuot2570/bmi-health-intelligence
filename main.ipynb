{
 "cells": [
  {
   "cell_type": "code",
   "execution_count": 96,
   "id": "bac1d7c5",
   "metadata": {},
   "outputs": [
    {
     "name": "stdout",
     "output_type": "stream",
     "text": [
      "                    image_name subject_id image_id   weight  height  gender  \\\n",
      "0     105bz1_apwNX_135_64_true     105bz1    apwNX   61.235   1.626  female   \n",
      "1     105bz1_zruwQ_165_64_true     105bz1    zruwQ   74.843   1.626  female   \n",
      "2     10a6mk_3DMw6_280_70_true     10a6mk    3DMw6  127.006   1.778  female   \n",
      "3     10a6mk_SOzjX_180_70_true     10a6mk    SOzjX   81.647   1.778  female   \n",
      "4     10b1h4_omCR3_180_67_true     10b1h4    omCR3   81.647   1.702  female   \n",
      "...                        ...        ...      ...      ...     ...     ...   \n",
      "8365  zst7n_0rWqV_166_71_false      zst7n    0rWqV   75.296   1.803    male   \n",
      "8366  zsxmf_P1zBP_200_67_false      zsxmf    P1zBP   90.718   1.702    male   \n",
      "8367  zsyl3_Oy6yf_160_66_false      zsyl3    Oy6yf   72.575   1.676    male   \n",
      "8368  zw8t7_53puB_201_76_false      zw8t7    53puB   91.172   1.930    male   \n",
      "8369  zxoeu_ZoI2V_155_69_false      zxoeu    ZoI2V   70.307   1.753    male   \n",
      "\n",
      "        bmi  \n",
      "0     23.16  \n",
      "1     28.31  \n",
      "2     40.18  \n",
      "3     25.83  \n",
      "4     28.19  \n",
      "...     ...  \n",
      "8365  23.16  \n",
      "8366  31.32  \n",
      "8367  25.84  \n",
      "8368  24.48  \n",
      "8369  22.88  \n",
      "\n",
      "[8364 rows x 7 columns]\n"
     ]
    }
   ],
   "source": [
    "import os\n",
    "import pandas as pd\n",
    "import matplotlib.pyplot as plt\n",
    "\n",
    "files = os.listdir('./FIW-BMI_released/IVC_released_crop_256')\n",
    "\n",
    "listOfFileWithoutExtension = [os.path.splitext(x)[0] for x in files]\n",
    "\n",
    "pd.DataFrame(listOfFileWithoutExtension).to_csv(\"./filename.csv\", index=False, header=['image_name'])\n",
    "\n",
    "\n",
    "df = pd.read_csv('./filename.csv')\n",
    "\n",
    "df[['subject_id', 'image_id', 'weight', 'height', 'gender']] = df['image_name'].str.split('_', expand=True)\n",
    "\n",
    "##convert lbs-kg, inch-meter\n",
    "df['weight'] = [round(float(item) * 0.453592, 3) for item in df['weight']] \n",
    "df['height'] = [round(float(item) * 0.0254, 3) for item in df['height']]  \n",
    "\n",
    "#remove records wit wrong data in gender\n",
    "df = df[df['gender'].isin(['true','false'])]\n",
    "\n",
    "df['gender'] = df['gender'].replace(['true','false'],['female','male'])\n",
    "\n",
    "df['bmi'] = round(df['weight'] / df['height'] ** 2, 2)\n",
    "\n",
    "df.to_csv('file_image_converted_data_checked.csv', index=False)\n",
    "\n",
    "print(df)\n",
    "\n"
   ]
  },
  {
   "cell_type": "code",
   "execution_count": 89,
   "id": "7e8026b1",
   "metadata": {},
   "outputs": [
    {
     "name": "stdout",
     "output_type": "stream",
     "text": [
      "image_name    0\n",
      "subject_id    0\n",
      "image_id      0\n",
      "weight        0\n",
      "height        0\n",
      "gender        0\n",
      "bmi           0\n",
      "dtype: int64\n"
     ]
    }
   ],
   "source": [
    "print(df.isnull().sum())"
   ]
  },
  {
   "cell_type": "code",
   "execution_count": null,
   "id": "de21faed",
   "metadata": {},
   "outputs": [],
   "source": []
  },
  {
   "cell_type": "code",
   "execution_count": null,
   "id": "ffc99f74",
   "metadata": {},
   "outputs": [],
   "source": []
  },
  {
   "cell_type": "code",
   "execution_count": null,
   "id": "63f504c4",
   "metadata": {},
   "outputs": [],
   "source": []
  },
  {
   "cell_type": "code",
   "execution_count": null,
   "id": "1d7ffb24",
   "metadata": {},
   "outputs": [],
   "source": []
  },
  {
   "cell_type": "code",
   "execution_count": null,
   "id": "e12dbbe6",
   "metadata": {},
   "outputs": [],
   "source": []
  },
  {
   "cell_type": "code",
   "execution_count": null,
   "id": "7602467e",
   "metadata": {},
   "outputs": [],
   "source": []
  },
  {
   "cell_type": "code",
   "execution_count": null,
   "id": "fe71ffb6",
   "metadata": {},
   "outputs": [],
   "source": []
  },
  {
   "cell_type": "code",
   "execution_count": null,
   "id": "7f726717",
   "metadata": {},
   "outputs": [],
   "source": []
  }
 ],
 "metadata": {
  "kernelspec": {
   "display_name": "Python 3",
   "language": "python",
   "name": "python3"
  },
  "language_info": {
   "codemirror_mode": {
    "name": "ipython",
    "version": 3
   },
   "file_extension": ".py",
   "mimetype": "text/x-python",
   "name": "python",
   "nbconvert_exporter": "python",
   "pygments_lexer": "ipython3",
   "version": "3.8.8"
  }
 },
 "nbformat": 4,
 "nbformat_minor": 5
}
